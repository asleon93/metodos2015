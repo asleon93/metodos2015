{
 "cells": [
  {
   "cell_type": "code",
   "execution_count": 20,
   "metadata": {
    "collapsed": false
   },
   "outputs": [
    {
     "name": "stdout",
     "output_type": "stream",
     "text": [
      "i  \tXi\t      Ea%\t   Et%\n",
      "0 | 0.000000 | 0.000000 | 100.000000 \n",
      "1 | 1.000000 | 100.000000 | 76.322284 \n",
      "2 | 0.367879 | 171.828183 | 35.134657 \n",
      "3 | 0.692201 | 46.853639 | 22.050395 \n",
      "4 | 0.500474 | 38.309147 | 11.755370 \n",
      "5 | 0.606244 | 17.446790 | 6.894245 \n",
      "6 | 0.545396 | 11.156623 | 3.834570 \n",
      "7 | 0.579612 | 5.903351 | 2.198571 \n",
      "8 | 0.560115 | 3.480867 | 1.239163 \n",
      "9 | 0.571143 | 1.930804 | 0.705258 \n",
      "10 | 0.564879 | 1.108868 | 0.399184 \n",
      "11 | 0.568429 | 0.624419 | 0.226651 \n",
      "12 | 0.566415 | 0.355568 | 0.128461 \n"
     ]
    }
   ],
   "source": [
    "##Ejemplo 6.1 de Aplicacion De Punto Fijo ;Funcion e⁻x -x\n",
    "from matplotlib import pyplot as plt\n",
    "import math\n",
    "\n",
    "#n = input(\"Ingrese N° de cifras significativas--> \")    \n",
    "Es = 0.5*10**(2-2)\n",
    "\n",
    "verdadero = 0.56714329    # Constante Valor Verdadero de la Raíz\n",
    "i = 0\n",
    "Ea = 0    # Error Aproximado\n",
    "Et = 0    # Error Verdadero\n",
    "xi = 0    # actual\n",
    "x_sig = 0    #xi    siguiente\n",
    "x_ant = 0     # xi anterior\n",
    "x=[]\n",
    "\n",
    "\n",
    "\n",
    "print \"i  \\t\",\"Xi\\t\",\"      Ea%\\t\", \"   Et%\"\n",
    "\n",
    "while True:\n",
    "    x_sig= math.exp(-xi)  #Calcula el valor de c/u de las iteraciones\n",
    "    x.append(x_sig)\n",
    "    \n",
    "    Et = abs((verdadero - xi) / verdadero) * 100\n",
    "    if i != 0:\n",
    "        Ea = abs((xi - x_ant) / xi) * 100\n",
    "\n",
    "    \n",
    "\n",
    "    print \"{0:d} | {1:f} | {2:f} | {3:f} \".format(i, xi, Ea, Et)\n",
    "\n",
    "    if Ea < Es and i != 0:\n",
    "        break\n",
    "\n",
    "    x_ant = xi\n",
    "    xi = x_sig\n",
    "    i += 1\n",
    "plt.plot(x)\n",
    "plt.xlabel('Deben aparecer las cuatro curvas')\n",
    "plt.grid(True)\n",
    "plt.show()"
   ]
  },
  {
   "cell_type": "code",
   "execution_count": null,
   "metadata": {
    "collapsed": true
   },
   "outputs": [],
   "source": []
  }
 ],
 "metadata": {
  "kernelspec": {
   "display_name": "Python 2",
   "language": "python",
   "name": "python2"
  },
  "language_info": {
   "codemirror_mode": {
    "name": "ipython",
    "version": 2
   },
   "file_extension": ".py",
   "mimetype": "text/x-python",
   "name": "python",
   "nbconvert_exporter": "python",
   "pygments_lexer": "ipython2",
   "version": "2.7.10"
  }
 },
 "nbformat": 4,
 "nbformat_minor": 0
}
