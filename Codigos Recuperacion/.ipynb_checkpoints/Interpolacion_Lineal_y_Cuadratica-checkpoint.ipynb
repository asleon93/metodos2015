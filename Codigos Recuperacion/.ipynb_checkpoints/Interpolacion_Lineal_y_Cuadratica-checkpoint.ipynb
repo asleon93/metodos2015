{
 "cells": [
  {
   "cell_type": "markdown",
   "metadata": {},
   "source": [
    "#Codigo :INTERPOLACION LINEAL Y CUADRATICA\n",
    "#de la funcion logaritmo natural.\n",
    "Elaborado por: Alexander Suárez León-160003432\n"
   ]
  },
  {
   "cell_type": "markdown",
   "metadata": {},
   "source": [
    "#INTERPOLACION LINEAL"
   ]
  },
  {
   "cell_type": "code",
   "execution_count": 9,
   "metadata": {
    "collapsed": false
   },
   "outputs": [],
   "source": [
    "import math #para las operaciones matematicas\n",
    "from matplotlib import pyplot as plt #para graficar\n",
    "import numpy as np #para las matrices o vectores que se usen en el proceso\n",
    "\n",
    "#FUNCION PARA OBTENER LOS VALORES VERDADEROS\n",
    "def fx(x):\n",
    "    return math.log(x)\n",
    "\n",
    "def finterpolacion(x,x_0,x_1):\n",
    "    fx0=fx(x_0)\n",
    "    fx1=fx(x_1)\n",
    "#algoritmo de la funcion de interpolacion lineal    \n",
    "    return fx0+(fx1-fx0)/(x_1-x_0)*(x-x_0)\n",
    "    \n",
    "##Ejecucion del Codigo    \n",
    "    \n",
    "l0=1\n",
    "l1=5#intervalo de desarrollo del vector de x\n",
    "x=range(l0,l1)\n",
    "vfx=[]\n",
    "vint=[]#vector para guardar los resultados de la interpolacion lineal\n",
    "fver=[]# vector con el uso de la funcion epsilon para los valores verdaderos de la funcion fx\n",
    "v_ep = np.arange(l0,l1-1,0.1) #vector de dominio de la funcion pa\n",
    "\n",
    "\n",
    "#Ejecucion de la Interpolacion Lineal\n",
    "for j in v_ep:\n",
    "    fver.append(fx(j))\n",
    "for xi in x:\n",
    "    vfx.append(fx(xi))\n",
    "    vint.append(finterpolacion(xi,xi,xi+1))\n",
    "\n",
    "#####graficos\n",
    "plt.figure(\"Interpolacion Lineal\")\n",
    "plt.plot(x,vfx,'o')\n",
    "v=[\"Funcion Discreta ln(x)\",\"Interpolacion Lineal\",\"Funcion Original\"]\n",
    "plt.title(\"Interpolacion lineal de Ln(x)\")\n",
    "plt.plot(x,vint)\n",
    "plt.plot(v_ep,fver)\n",
    "plt.legend(v,loc=2)\n",
    "plt.grid(True)\n",
    "plt.show()"
   ]
  },
  {
   "cell_type": "markdown",
   "metadata": {},
   "source": [
    "#INTERPOLACION CUADRATICA"
   ]
  },
  {
   "cell_type": "code",
   "execution_count": 10,
   "metadata": {
    "collapsed": true
   },
   "outputs": [],
   "source": [
    "import math #para las operaciones matematicas\n",
    "from matplotlib import pyplot as plt #para graficar\n",
    "import numpy as np #para las matrices o vectores que se usen en el proceso\n",
    "\n",
    "#FUNCION PARA OBTENER LOS VALORES VERDADEROS\n",
    "def fx(x):\n",
    "    return math.log(x)\n",
    "\n",
    "def interpolcuad(x,x0,x1,x2):\n",
    "    fx0=fx(x0)\n",
    "    fx1=fx(x1)\n",
    "    fx1=fx(x2)\n",
    "    b0=fx0\n",
    "    b1=(fx1-fx0)/(x1-x0)\n",
    "    b2=(((fx1-fx0)/(x1-x0))-((fx1-fx0)/(x1-x0)))/(x2-x0)\n",
    "    \n",
    "    res = b0+b1*(x-x0)+b2*(x-x0)*(x-x1)\n",
    "    return res\n",
    "    \n",
    "##Ejecucion del Codigo    \n",
    "    \n",
    "l0=1\n",
    "l1=5#intervalo de desarrollo del vector de x\n",
    "x=range(l0,l1)\n",
    "vfx=[]\n",
    "vint=[]#vector para guardar los resultados de la interpolacion cuadratica\n",
    "fver=[]# vector con el uso de la funcion epsilon para los valores verdaderos de la funcion fx\n",
    "v_ep = np.arange(l0,l1-1,0.1) #vector de dominio de la funcion pa\n",
    "\n",
    "for j in v_ep:\n",
    "    fver.append(fx(j))\n",
    "for xi in x:\n",
    "    vfx.append(fx(xi))\n",
    "    vint.append(interpolcuad(xi,xi,xi+1,xi+2))\n",
    "\n",
    "    \n",
    "#####graficos\n",
    "plt.figure(\"Interpolacion Cuadratica\")\n",
    "plt.plot(x,vfx,'o')\n",
    "v=[\"Funcion Discreta ln(x)\",\"Interpolacion Cuadratica\",\"Funcion Original\"]\n",
    "plt.title(\"Interpolacion Cuadratica de Ln(x)\")\n",
    "plt.plot(x,vint)\n",
    "plt.plot(v_ep,fver)\n",
    "plt.legend(v,loc=2)\n",
    "plt.grid(True)\n",
    "plt.show()"
   ]
  },
  {
   "cell_type": "code",
   "execution_count": null,
   "metadata": {
    "collapsed": true
   },
   "outputs": [],
   "source": []
  }
 ],
 "metadata": {
  "kernelspec": {
   "display_name": "Python 2",
   "language": "python",
   "name": "python2"
  },
  "language_info": {
   "codemirror_mode": {
    "name": "ipython",
    "version": 2
   },
   "file_extension": ".py",
   "mimetype": "text/x-python",
   "name": "python",
   "nbconvert_exporter": "python",
   "pygments_lexer": "ipython2",
   "version": "2.7.10"
  }
 },
 "nbformat": 4,
 "nbformat_minor": 0
}
