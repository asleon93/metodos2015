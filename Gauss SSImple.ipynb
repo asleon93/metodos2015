{
 "cells": [
  {
   "cell_type": "code",
   "execution_count": null,
   "metadata": {
    "collapsed": true
   },
   "outputs": [],
   "source": [
    "import numpy as np\n",
    "\n",
    "# Sistema de ecuaciones lineales propuesto en el ejercicio\n",
    "A = np.array([[3, -0.1, -0.2, 7.85], [0.1, 7, -0.3, -19.3], [0.3, -0.2, 10, 71.4]])\n",
    "X = np.zeros((3,1))\n",
    "\n",
    "print \"Sistema Ecuaciones Propuesto:\"\n",
    "print \"Matriz A:\"\n",
    "print A\n",
    "\n",
    "\n",
    "# Algoritmo de eliminación de Gauss Simple Hacia Adelante\n",
    "#m, n = A.shape\t#Obtenemos la dimension de la Matriz mxn\n",
    "#print m,\"x\",n\n",
    "n = 3  # N° de incognitas debe ser igual a el número de ecuaciones\n",
    "\n",
    "# Eliminación de Gauss Simple hacia adelante\n",
    "for k in range(0, n-1):\n",
    "    for i in range(k+1, n):\n",
    "        factor = A[i,k] / (A[k,k] * 1.0)\n",
    "        for j in range(k,n):\n",
    "            A[i,j] = A[i,j] - factor * A[k,j]\n",
    "        A[i,n] = A[i,n] - factor * A[k,n]\n",
    "\n",
    "\n",
    "# Sustitución hacia atrás\n",
    "X[n-1] = A[n-1,n] / (A[n-1,n-1] * 1.0)\n",
    "\n",
    "for i in range(n-1,-1,-1):\n",
    "    sum = A[i,n]\n",
    "    for j in range(i+1, n):\n",
    "        sum = sum - A[i,j] * X[j]\n",
    "    X[i] = sum / (A[i,i] * 1.0)\n",
    "\n",
    "\n",
    "print \"\\n\\n#---------- Resultados: ----------# \"\n",
    "print \"Matriz A:\"\n",
    "print A\n",
    "\n",
    "print \"\\nIncognitas:\"\n",
    "print X"
   ]
  }
 ],
 "metadata": {
  "kernelspec": {
   "display_name": "Python 2",
   "language": "python",
   "name": "python2"
  },
  "language_info": {
   "codemirror_mode": {
    "name": "ipython",
    "version": 2
   },
   "file_extension": ".py",
   "mimetype": "text/x-python",
   "name": "python",
   "nbconvert_exporter": "python",
   "pygments_lexer": "ipython2",
   "version": "2.7.10"
  }
 },
 "nbformat": 4,
 "nbformat_minor": 0
}
