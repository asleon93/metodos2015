{
 "cells": [
  {
   "cell_type": "markdown",
   "metadata": {},
   "source": [
    "# Ejemplos seccion 4"
   ]
  },
  {
   "cell_type": "markdown",
   "metadata": {},
   "source": [
    "# Ejemplo 4.1"
   ]
  },
  {
   "cell_type": "code",
   "execution_count": 12,
   "metadata": {
    "collapsed": false
   },
   "outputs": [
    {
     "name": "stdout",
     "output_type": "stream",
     "text": [
      "Aproximacion\tResultado\tEt\tEa\n",
      "0\t1.200000\t0.000000\t1.000000\n",
      "1\t0.950000\t0.208333\t-0.263158\n",
      "2\t0.450000\t0.625000\t-1.111111\n",
      "3\t0.300000\t0.750000\t-0.500000\n"
     ]
    }
   ],
   "source": [
    "from math import factorial\n",
    "def funcionEnSerie():\n",
    "    #n numero de iteraciones de la serie hasta 4\n",
    "    #x el valor que va a tomar la funcion \n",
    "    #h la constante que acompaña\n",
    "    x=0\n",
    "    h=1\n",
    "    anterior=0\n",
    "    cont=0\n",
    "    resultado=0\n",
    "    print\"Aproximacion\\tResultado\\tEt\\tEa\"\n",
    "    for i in range(0,4):\n",
    "        anterior=resultado\n",
    "        resultado+=(derivadas(i,x)*h)/factorial(i)\n",
    "        Et=(funcion(0)-resultado)/funcion(0)#funcion(0) es el dato verdadero\n",
    "        Ea=(resultado-anterior)/resultado\n",
    "        print\"%d\\t%f\\t%f\\t%f\"%(i,resultado,Et,Ea)\n",
    "        \n",
    "    \n",
    "    \n",
    "def funcion(x):\n",
    "    funcion=-0.1*(x**4)-0.15*(x**3)-0.5*(x**2)-0.25*x+1.2\n",
    "    return funcion\n",
    "def derivadas(n,x):\n",
    "    if(n==0):\n",
    "        resultado=-0.1*(x**4)-0.15*(x**3)-0.5*(x**2)-0.25*x+1.2            \n",
    "    elif(n==1):\n",
    "        resultado=-0.4*(x**3)-0.45*(x**2)-x-0.25            \n",
    "    elif(n==2):\n",
    "        resultado=-1.2*(x**2)-0.9*x-1\n",
    "    elif(n==3):\n",
    "        resultado=-2.4*x-0.9\n",
    "    elif(n==4):\n",
    "        resultado=-2.4\n",
    "    return resultado\n",
    "\n",
    "funcion(1)\n",
    "funcionEnSerie()\n",
    "\n",
    "    \n",
    "    \n"
   ]
  },
  {
   "cell_type": "markdown",
   "metadata": {
    "collapsed": true
   },
   "source": [
    "# Ejemplo 4.2"
   ]
  },
  {
   "cell_type": "code",
   "execution_count": 3,
   "metadata": {
    "collapsed": false
   },
   "outputs": [
    {
     "name": "stdout",
     "output_type": "stream",
     "text": [
      "Orden  |  f(xi+1)    | Ea               | Et\n",
      "0  |  0.500000000   |   0.000000    |    0.000000\n",
      "1  |  0.726724921   |   -0.453450    |    0.688018\n",
      "2  |  0.709590191   |   -0.419180    |    1.024147\n",
      "3  |  0.707000277   |   -0.414001    |    1.003663\n",
      "4  |  0.707098143   |   -0.414196    |    0.999862\n"
     ]
    }
   ],
   "source": [
    "from math import *\n",
    "def fxN(xi,xii,n):\n",
    "    h= xii-xi\n",
    "    valor= 0#Guarda el valor de la funcion\n",
    "    temp= 0 # Guarda el valor temporal de la funcion\n",
    "    negativo= False\n",
    "    signo=(1,-1,-1, 1)\n",
    "    cs= 0  #Controlador de signo\n",
    "    print \"Orden  |  f(xi+1)    | Ea               | Et\"\n",
    "\n",
    "\n",
    "    for i in range(n+1):\n",
    "        if i%2==0:\n",
    "            temp= (signo[cs]*cos(xi) * h**i)/factorial(i)\n",
    "        else:\n",
    "            temp= (signo[cs]*sin(xi) * h**i)/factorial(i)\n",
    "\n",
    "        cs+=1\n",
    "        if cs == 4:       #Reiniciamos controlador de signo\n",
    "            cs= 0\n",
    "\n",
    "        valor+= temp    #Sumamos a valor serie taylor\n",
    "        Et=(cos(pi/3)-valor)/cos(pi/3)#funcion(0) es el dato verdadero\n",
    "        Ea=abs((valor-temp)/valor)\n",
    "        print \"%d  |  %.9f   |   %f    |    %f\"% (i,valor,Et,Ea) \n",
    "\n",
    "fxN(pi/3,pi/4,4)\n",
    "\n",
    "\n",
    "\n"
   ]
  },
  {
   "cell_type": "markdown",
   "metadata": {},
   "source": [
    "# EJEMPLO 4,4"
   ]
  },
  {
   "cell_type": "code",
   "execution_count": 8,
   "metadata": {
    "collapsed": false
   },
   "outputs": [
    {
     "ename": "TypeError",
     "evalue": "'dict' object is not callable",
     "output_type": "error",
     "traceback": [
      "\u001b[1;31m---------------------------------------------------------------------------\u001b[0m",
      "\u001b[1;31mTypeError\u001b[0m                                 Traceback (most recent call last)",
      "\u001b[1;32m<ipython-input-8-c92efe066403>\u001b[0m in \u001b[0;36m<module>\u001b[1;34m()\u001b[0m\n\u001b[0;32m     28\u001b[0m     \u001b[0mverdadero\u001b[0m\u001b[1;33m=\u001b[0m\u001b[0mfuncion\u001b[0m\u001b[1;33m(\u001b[0m\u001b[1;36m1\u001b[0m\u001b[1;33m,\u001b[0m\u001b[0mx\u001b[0m\u001b[1;33m)\u001b[0m\u001b[1;31m#valor verdadero del f'(x)\u001b[0m\u001b[1;33m\u001b[0m\u001b[0m\n\u001b[0;32m     29\u001b[0m     \u001b[0mEt3\u001b[0m\u001b[1;33m=\u001b[0m\u001b[0mverdadero\u001b[0m\u001b[1;33m-\u001b[0m\u001b[0mfx\u001b[0m\u001b[1;33m/\u001b[0m\u001b[0mverdadero\u001b[0m\u001b[1;33m\u001b[0m\u001b[0m\n\u001b[1;32m---> 30\u001b[1;33m \u001b[0mfxn\u001b[0m\u001b[1;33m(\u001b[0m\u001b[1;36m0.5\u001b[0m\u001b[1;33m,\u001b[0m\u001b[1;36m0.5\u001b[0m\u001b[1;33m)\u001b[0m\u001b[1;33m\u001b[0m\u001b[0m\n\u001b[0m",
      "\u001b[1;32m<ipython-input-8-c92efe066403>\u001b[0m in \u001b[0;36mfxn\u001b[1;34m(x, h)\u001b[0m\n\u001b[0;32m     19\u001b[0m     \u001b[0menunciados\u001b[0m\u001b[1;33m=\u001b[0m\u001b[1;33m[\u001b[0m\u001b[1;34m\"atras\"\u001b[0m\u001b[1;33m,\u001b[0m\u001b[1;34m\"centrado\"\u001b[0m\u001b[1;33m,\u001b[0m\u001b[1;34m\"adelante\"\u001b[0m\u001b[1;33m]\u001b[0m\u001b[1;33m\u001b[0m\u001b[0m\n\u001b[0;32m     20\u001b[0m     \u001b[0mfuncion\u001b[0m\u001b[1;33m=\u001b[0m\u001b[1;33m{\u001b[0m\u001b[1;33m}\u001b[0m\u001b[1;31m#funcion para llenar con los valores de las aproximaciones de las diferencias divididas\u001b[0m\u001b[1;33m\u001b[0m\u001b[0m\n\u001b[1;32m---> 21\u001b[1;33m     \u001b[0mfuncion\u001b[0m\u001b[1;33m[\u001b[0m\u001b[1;36m0\u001b[0m\u001b[1;33m]\u001b[0m\u001b[1;33m=\u001b[0m\u001b[0mfuncion\u001b[0m\u001b[1;33m(\u001b[0m\u001b[1;36m0\u001b[0m\u001b[1;33m,\u001b[0m\u001b[0madelante\u001b[0m\u001b[1;33m)\u001b[0m\u001b[1;33m-\u001b[0m\u001b[0mfuncion\u001b[0m\u001b[1;33m(\u001b[0m\u001b[1;36m0\u001b[0m\u001b[1;33m,\u001b[0m\u001b[0mcentrado\u001b[0m\u001b[1;33m)\u001b[0m\u001b[1;33m/\u001b[0m\u001b[0mcentrado\u001b[0m\u001b[1;33m\u001b[0m\u001b[0m\n\u001b[0m\u001b[0;32m     22\u001b[0m     \u001b[0mfuncion\u001b[0m\u001b[1;33m[\u001b[0m\u001b[1;36m1\u001b[0m\u001b[1;33m]\u001b[0m\u001b[1;33m=\u001b[0m\u001b[0mfuncion\u001b[0m\u001b[1;33m(\u001b[0m\u001b[1;36m0\u001b[0m\u001b[1;33m,\u001b[0m\u001b[0mcentrado\u001b[0m\u001b[1;33m)\u001b[0m\u001b[1;33m-\u001b[0m\u001b[0mfuncion\u001b[0m\u001b[1;33m(\u001b[0m\u001b[1;36m0\u001b[0m\u001b[1;33m,\u001b[0m\u001b[0matras\u001b[0m\u001b[1;33m)\u001b[0m\u001b[1;33m/\u001b[0m\u001b[0mcentrado\u001b[0m\u001b[1;33m\u001b[0m\u001b[0m\n\u001b[0;32m     23\u001b[0m     \u001b[0mfuncion\u001b[0m\u001b[1;33m[\u001b[0m\u001b[1;36m2\u001b[0m\u001b[1;33m]\u001b[0m\u001b[1;33m=\u001b[0m\u001b[0mfuncion\u001b[0m\u001b[1;33m(\u001b[0m\u001b[1;36m0\u001b[0m\u001b[1;33m,\u001b[0m\u001b[0madelante\u001b[0m\u001b[1;33m)\u001b[0m\u001b[1;33m-\u001b[0m\u001b[0mfuncion\u001b[0m\u001b[1;33m(\u001b[0m\u001b[1;36m0\u001b[0m\u001b[1;33m,\u001b[0m\u001b[0matras\u001b[0m\u001b[1;33m)\u001b[0m\u001b[1;33m/\u001b[0m\u001b[0madelante\u001b[0m\u001b[1;33m\u001b[0m\u001b[0m\n",
      "\u001b[1;31mTypeError\u001b[0m: 'dict' object is not callable"
     ]
    }
   ],
   "source": [
    "def funcion(n,x):\n",
    "    if(n==0):\n",
    "        resultado=-0.1*(x**4)-0.15*(x**3)-0.5*(x**2)-0.25*x+1.2            \n",
    "    elif(n==1):\n",
    "        resultado=-0.4*(x**3)-0.45*(x**2)-x-0.25            \n",
    "    elif(n==2):\n",
    "        resultado=-1.2*(x**2)-0.9*x-1\n",
    "    elif(n==3):\n",
    "        resultado=-2.4*x-0.9\n",
    "    elif(n==4):\n",
    "        resultado=-2.4\n",
    "    return resultado\n",
    "def fxn(x,h):\n",
    "    #x valor de la funcion\n",
    "    #h incremento\n",
    "    atras=x-h\n",
    "    centrado=x\n",
    "    adelante=x+h\n",
    "    enunciados=[\"atras\",\"centrado\",\"adelante\"]\n",
    "    funcion={}#funcion para llenar con los valores de las aproximaciones de las diferencias divididas\n",
    "    funcion[0]=funcion(0,adelante)-funcion(0,centrado)/centrado\n",
    "    funcion[1]=funcion(0,centrado)-funcion(0,atras)/centrado\n",
    "    funcion[2]=funcion(0,adelante)-funcion(0,atras)/adelante\n",
    "    print \"Funcion\\t|Et\"\n",
    "    for i in range(funcion):\n",
    "        print \"%s:%f|\\t%f\"%(enunciados[i],funcion[i],Et(x,funcion[i]))\n",
    "def Et(x,fx):\n",
    "    verdadero=funcion(1,x)#valor verdadero del f'(x)\n",
    "    Et3=verdadero-fx/verdadero\n",
    "fxn(0.5,0.5)"
   ]
  },
  {
   "cell_type": "markdown",
   "metadata": {},
   "source": [
    "# TABLA 4.2"
   ]
  },
  {
   "cell_type": "code",
   "execution_count": 39,
   "metadata": {
    "collapsed": false
   },
   "outputs": [
    {
     "name": "stdout",
     "output_type": "stream",
     "text": [
      "h\tVerdadero\t|Aprox 1° Orden |R1\n",
      "1.000000\t16.000000\t|5.000000\t|11.000000|\n",
      "0.500000\t5.062500\t|3.000000\t|2.062500|\n",
      "0.250000\t2.441406\t|2.000000\t|0.441406|\n",
      "0.125000\t1.601807\t|1.500000\t|0.101807|\n",
      "0.062500\t1.274429\t|1.250000\t|0.024429|\n",
      "0.031250\t1.130982\t|1.125000\t|0.005982|\n",
      "0.015625\t1.063980\t|1.062500\t|0.001480|\n"
     ]
    },
    {
     "data": {
      "text/plain": [
       "True"
      ]
     },
     "execution_count": 39,
     "metadata": {},
     "output_type": "execute_result"
    }
   ],
   "source": [
    "def fxx(x,h):\n",
    "    x=x-h\n",
    "    resultado=x**4+4*(x**3)*h\n",
    "    return resultado\n",
    "def principal(n):\n",
    "    h=1.0\n",
    "    y=1.0\n",
    "    print\"h\\tVerdadero\\t|Aprox 1° Orden |R1\"\n",
    "    for i in range(n+1):\n",
    "        x=y+h\n",
    "        verdadero=x**4\n",
    "        aproximacion=fxx(x,h)\n",
    "        print \"%f\\t%f\\t|%f\\t|%f|\"%(h,verdadero,aproximacion,verdadero-aproximacion)\n",
    "        h=h/2\n",
    "    return True\n",
    "principal(6)\n",
    "        "
   ]
  },
  {
   "cell_type": "code",
   "execution_count": null,
   "metadata": {
    "collapsed": true
   },
   "outputs": [],
   "source": []
  }
 ],
 "metadata": {
  "kernelspec": {
   "display_name": "Python 2",
   "language": "python",
   "name": "python2"
  },
  "language_info": {
   "codemirror_mode": {
    "name": "ipython",
    "version": 2
   },
   "file_extension": ".py",
   "mimetype": "text/x-python",
   "name": "python",
   "nbconvert_exporter": "python",
   "pygments_lexer": "ipython2",
   "version": "2.7.10"
  }
 },
 "nbformat": 4,
 "nbformat_minor": 0
}
