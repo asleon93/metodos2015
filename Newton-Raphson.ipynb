{
 "cells": [
  {
   "cell_type": "code",
   "execution_count": 3,
   "metadata": {
    "collapsed": false
   },
   "outputs": [
    {
     "name": "stdout",
     "output_type": "stream",
     "text": [
      "i   | Xi              | Ea              | Et             \n",
      "  0 |   0.000000 | 0.000000e+00 | 1.000000e+02\n",
      "  1 |   0.500000 | 1.000000e+02 | 1.183886e+01\n",
      "  2 |   0.566311 | 1.170929e+01 | 1.467507e-01\n",
      "  3 |   0.567143 | 1.467287e-01 | 2.203414e-05\n",
      "  4 |   0.567143 | 2.210639e-05 | 7.225354e-08\n"
     ]
    }
   ],
   "source": [
    "##Ejemplo 6.3 Aplicando el metodo Newtown Raphson en la fucion e^-x -x\n",
    "import math\n",
    "\n",
    "\n",
    "def funcion(x):\n",
    "    return math.exp(-x) - x\n",
    "\n",
    "# derivadda de la funcion\n",
    "def derivada(x):\n",
    "    return -math.exp(-x) - 1\n",
    "\n",
    "\n",
    "ES = 0.5*10**(2-5)    # Constante Cifras significativas\n",
    "RR = 0.56714329    # Constante Valor Verdadero de la Raíz\n",
    "i = 0    \n",
    "Ea = 0\n",
    "Et = 0\n",
    "xi = 0   #xi actual\n",
    "x_sig = 0    # Xi+1     siguiente\n",
    "x_ant = 0  # Xi-1    anterior\n",
    "\n",
    "print \"{0:3s} | {1:15s} | {2:15s} | {3:15s}\".format(\"i\", \"Xi\", \"Ea\", \"Et\")\n",
    "\n",
    "while True: \n",
    "    x_sig = xi - (funcion(xi) / derivada(xi)) # Calcula termino siguiente\n",
    "    Et = abs ((RR - xi) / RR ) * 100    # Error Verdadero\n",
    "    if xi != 0:\n",
    "        Ea = abs((xi - x_ant) / xi) * 100    # Error Aproximado\n",
    "    \n",
    "    print \"{0:3d} | {1:10f} | {2:10e} | {3:10e}\".format(i, xi, Ea, Et)\n",
    "\n",
    "    if abs(Ea) < ES and i != 0:\n",
    "        break\n",
    "    x_ant = xi\n",
    "    xi = x_sig\n",
    "    i += 1"
   ]
  },
  {
   "cell_type": "code",
   "execution_count": null,
   "metadata": {
    "collapsed": true
   },
   "outputs": [],
   "source": []
  }
 ],
 "metadata": {
  "kernelspec": {
   "display_name": "Python 2",
   "language": "python",
   "name": "python2"
  },
  "language_info": {
   "codemirror_mode": {
    "name": "ipython",
    "version": 2
   },
   "file_extension": ".py",
   "mimetype": "text/x-python",
   "name": "python",
   "nbconvert_exporter": "python",
   "pygments_lexer": "ipython2",
   "version": "2.7.10"
  }
 },
 "nbformat": 4,
 "nbformat_minor": 0
}
