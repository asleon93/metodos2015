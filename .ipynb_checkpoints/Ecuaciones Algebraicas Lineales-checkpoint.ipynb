{
 "cells": [
  {
   "cell_type": "markdown",
   "metadata": {},
   "source": [
    "# ECUACIONES ALGEBRAICAS LINEALES\n",
    "CLASE 26 DE OCTUBRE"
   ]
  },
  {
   "cell_type": "code",
   "execution_count": 6,
   "metadata": {
    "collapsed": false
   },
   "outputs": [],
   "source": [
    "from matplotlib import pyplot as plt\n",
    "import numpy\n",
    "import math\n",
    "\n",
    "#graficar x2 SEA X1 LA ABSISA\n",
    "def x2_1(x):\n",
    "    x2=-3./2.*x+9#definir el tipo de dato float(.)\n",
    "    return x2\n",
    "def x2_2(x):\n",
    "    x2=x/2.+1.\n",
    "    return x2\n",
    "vect1=[]\n",
    "vect2=[]\n",
    "for i in range(10):\n",
    "    vect1.append(x2_1(i))\n",
    "    vect2.append(x2_2(i))\n",
    "plt.plot(vect1)\n",
    "plt.plot(vect2)\n",
    "plt.grid(True)\n",
    "plt.show()\n",
    "\n",
    "\n"
   ]
  },
  {
   "cell_type": "markdown",
   "metadata": {},
   "source": [
    "a)-1/2x1 + x2=1\n",
    "  -1/2x1 + x2=1/2\n",
    "  "
   ]
  },
  {
   "cell_type": "code",
   "execution_count": 7,
   "metadata": {
    "collapsed": true
   },
   "outputs": [],
   "source": [
    "def f1(x):#despejo x2\n",
    "    return 1+1./2.*x\n",
    "def f2(x):\n",
    "    return 1./2.+1./2.*x\n",
    "v1=[]\n",
    "v2=[]\n",
    "for i in range(10):\n",
    "    v1.append(f1(i))\n",
    "    v2.append(f2(i))\n",
    "plt.plot(v1)\n",
    "plt.plot(v2)\n",
    "plt.grid(True)\n",
    "plt.show()\n"
   ]
  },
  {
   "cell_type": "markdown",
   "metadata": {},
   "source": [
    "b) -1/2x1 + x2=1\n",
    "   -x1 + 2x2=2\n"
   ]
  },
  {
   "cell_type": "code",
   "execution_count": 10,
   "metadata": {
    "collapsed": true
   },
   "outputs": [],
   "source": [
    "def f1(x):#despejo x2\n",
    "    return 1+1./2.*x\n",
    "def f2(x):\n",
    "    return 1+x/2.\n",
    "v1=[]\n",
    "v2=[]\n",
    "for i in range(10):\n",
    "    v1.append(f1(i))\n",
    "    v2.append(f2(i))\n",
    "plt.plot(v1)\n",
    "plt.plot(v2)\n",
    "plt.grid(True)\n",
    "plt.show()\n"
   ]
  },
  {
   "cell_type": "markdown",
   "metadata": {},
   "source": [
    "c)-2.3/5x1 + x2=1.1\n",
    "   -1/2x1 + x2=1"
   ]
  },
  {
   "cell_type": "code",
   "execution_count": null,
   "metadata": {
    "collapsed": true
   },
   "outputs": [],
   "source": [
    "def f1(x):#despejo x2\n",
    "    return 1.1+2.3/5.*x\n",
    "def f2(x):\n",
    "    return 1+1/2.*x\n",
    "v1=[]\n",
    "v2=[]\n",
    "for i in range(10):\n",
    "    v1.append(f1(i))\n",
    "    v2.append(f2(i))\n",
    "plt.plot(v1)\n",
    "plt.plot(v2)\n",
    "plt.grid(True)\n",
    "plt.show()\n"
   ]
  },
  {
   "cell_type": "code",
   "execution_count": null,
   "metadata": {
    "collapsed": true
   },
   "outputs": [],
   "source": []
  }
 ],
 "metadata": {
  "kernelspec": {
   "display_name": "Python 2",
   "language": "python",
   "name": "python2"
  },
  "language_info": {
   "codemirror_mode": {
    "name": "ipython",
    "version": 2
   },
   "file_extension": ".py",
   "mimetype": "text/x-python",
   "name": "python",
   "nbconvert_exporter": "python",
   "pygments_lexer": "ipython2",
   "version": "2.7.10"
  }
 },
 "nbformat": 4,
 "nbformat_minor": 0
}
