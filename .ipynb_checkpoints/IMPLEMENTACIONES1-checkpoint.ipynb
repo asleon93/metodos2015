{
 "cells": [
  {
   "cell_type": "markdown",
   "metadata": {
    "collapsed": true
   },
   "source": [
    "# Ejemplo 3.2\n"
   ]
  },
  {
   "cell_type": "code",
   "execution_count": 6,
   "metadata": {
    "collapsed": false
   },
   "outputs": [
    {
     "name": "stdout",
     "output_type": "stream",
     "text": [
      "Es:=0.050000   \n",
      "Terminos\tResultados\tEt\t        Ea\n",
      "0\t1.000000\t0.393469\t100.000000\n",
      "1\t1.500000\t0.090204\t33.333333\n",
      "2\t1.625000\t0.014388\t7.692308\n",
      "3\t1.645833\t0.001752\t1.265823\n",
      "4\t1.648438\t0.000172\t0.157978\n",
      "5\t1.648698\t0.000014\t0.015795\n"
     ]
    }
   ],
   "source": [
    "import math\n",
    "x0=1#inicial en la serie de mcclaurin\n",
    "x=0.5\n",
    "n=3#cifras significativas\n",
    "Es=(0.5*10**(2-n))\n",
    "verdadero=math.exp(x)\n",
    "#print verdadero\n",
    "print \"Es:=%f   \"%(Es)\n",
    "anterior=0\n",
    "Ea=0#error aproximado\n",
    "Et=0#error verdadero\n",
    "resultado=0#valor aproximado\n",
    "cont=0\n",
    "print (\"Terminos\\tResultados\\tEt\\t        Ea\")\n",
    "while True:\n",
    "    anterior=resultado\n",
    "    if(cont==0):\n",
    "        resultado=1\n",
    "    elif(cont==1):\n",
    "        resultado=1+x\n",
    "    else:\n",
    "        resultado+=x**cont/(math.factorial(cont))\n",
    "    \n",
    "    Et=(verdadero-resultado)/verdadero\n",
    "    Ea=100*(resultado-anterior)/resultado\n",
    "    print \"%d\\t%f\\t%f\\t%f\"%(cont,resultado,Et,Ea)\n",
    "    cont=cont+1\n",
    "    if(abs(Ea)<Es):\n",
    "        break\n",
    "    \n",
    "    \n"
   ]
  },
  {
   "cell_type": "markdown",
   "metadata": {
    "collapsed": true
   },
   "source": [
    "# Ejemplo 3.8\n",
    "Evaluación de e x usando series infi nitas"
   ]
  },
  {
   "cell_type": "code",
   "execution_count": 4,
   "metadata": {
    "collapsed": false
   },
   "outputs": [
    {
     "name": "stdout",
     "output_type": "stream",
     "text": [
      "Ingrese el x:2\n",
      "i\tterm\tsum\n",
      "0\t1.000000\t1.000000\n",
      "1\t2.000000\t3.000000\n",
      "2\t2.000000\t5.000000\n",
      "3\t1.333333\t6.333333\n",
      "4\t0.666667\t7.000000\n",
      "5\t0.266667\t7.266667\n",
      "6\t0.088889\t7.355556\n",
      "7\t0.025397\t7.380952\n",
      "8\t0.006349\t7.387302\n",
      "9\t0.001411\t7.388713\n",
      "10\t0.000282\t7.388995\n",
      "11\t0.000051\t7.389046\n",
      "12\t0.000009\t7.389055\n",
      "13\t0.000001\t7.389056\n",
      "14\t0.000000\t7.389056\n",
      "15\t0.000000\t7.389056\n",
      "16\t0.000000\t7.389056\n",
      "17\t0.000000\t7.389056\n",
      "18\t0.000000\t7.389056\n",
      "19\t0.000000\t7.389056\n",
      "20\t0.000000\t7.389056\n",
      "21\t0.000000\t7.389056\n",
      "22\t0.000000\t7.389056\n",
      "valor exacto:=7.389056\n"
     ]
    }
   ],
   "source": [
    "import math\n",
    "i = 0\n",
    "term = 1.\n",
    "Sum = 1.\n",
    "test = 0.\n",
    "x=input(\"Ingrese el x:\")\n",
    "print \"i\\tterm\\tsum\"\n",
    "while Sum!=test:\n",
    "    print \"%d\\t%f\\t%f\"%(i,term,Sum)\n",
    "    i=i+1\n",
    "    term=term*x/i\n",
    "    test=Sum\n",
    "    Sum=Sum+term\n",
    "    #if(Sum==test):\n",
    "     #   break\n",
    "print \"valor exacto:=%f\"%(math.exp(x))"
   ]
  },
  {
   "cell_type": "code",
   "execution_count": null,
   "metadata": {
    "collapsed": true
   },
   "outputs": [],
   "source": []
  }
 ],
 "metadata": {
  "kernelspec": {
   "display_name": "Python 2",
   "language": "python",
   "name": "python2"
  }
 },
 "nbformat": 4,
 "nbformat_minor": 0
}
