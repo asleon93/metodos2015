{
 "cells": [
  {
   "cell_type": "code",
   "execution_count": 9,
   "metadata": {
    "collapsed": false
   },
   "outputs": [
    {
     "name": "stdout",
     "output_type": "stream",
     "text": [
      "[19, 19, 23, 21, 21, 21, 19, 18, 20, 22, 22, 21, 19, 19, 20, 20, 20, 21, 20, 23]\n",
      "0.0285714285714\n",
      "\n",
      "\n"
     ]
    }
   ],
   "source": [
    "import numpy as np\n",
    "import math\n",
    "from matplotlib import pyplot as plt\n",
    "\n",
    "yi=[19,19,23,21,21,21,19,18,20,22,22,21,19,19,20,20,20,21,20,23]\n",
    "xi=[]\n",
    "y1=[]\n",
    "\n",
    "a1=0\n",
    "a2=0\n",
    "print yi\n",
    "n=len(yi)\n",
    "for i in range(n):\n",
    "    xi.append(i)\n",
    "\n",
    "def media(xi):\n",
    "    n=len(xi)\n",
    "    #Hallar la media \n",
    "    media=0.0\n",
    "    #print \"i\\tmedia\"\n",
    "    for i in range(n):\n",
    "        #print \"%d\\t|%f\"%(i,media)\n",
    "        media=xi[i]+media\n",
    "    media=media/n\n",
    "    return media\n",
    "def funcion(x,y):\n",
    "    if len(x)==len(y):\n",
    "        n=len(x)\n",
    "        print\"|  xi |            yi |\"\n",
    "        for i in range(n):\n",
    "            print\"%f  \\t %f\"%(x[i],y[i])\n",
    "    return True\n",
    "\n",
    "def hallara1(xi,yi):\n",
    "    if len(xi)==len(yi):\n",
    "        n=len(xi)\n",
    "        p1=0.0\n",
    "        p2=0.0\n",
    "        p3=0.0\n",
    "        p4=0.0\n",
    "        a1=0.0\n",
    "        for i in range(n):\n",
    "            p1+=xi[i]*yi[i]\n",
    "            p2+=xi[i]\n",
    "            p3+=yi[i]\n",
    "            p4+=(xi[i])**2\n",
    "            p5=p2**2\n",
    "        a1=(n*p1-p2*p3)/(n*p4-p5)  ##Ecuacion a1=(nExiyi-ExiEyi)/(nExi²-(Exi)²)\n",
    "    return a1\n",
    "\n",
    "def hallara0(xi,yi):\n",
    "    ym=media(yi)\n",
    "    xm=media(xi)\n",
    "    a0=ym-hallara1(xi,yi)*xm\n",
    "    return a0\n",
    "\n",
    "###################********************###########\n",
    "def y(x,y):\n",
    "    n=len(xi)\n",
    "    a1=hallara1(xi,yi)\n",
    "    a0=hallara0(xi,yi)\n",
    "    y1=[]\n",
    "\n",
    "    for i in range(n):\n",
    "        r=a0+a1*xi[i]\n",
    "        y1.append(r)\n",
    "    plt.plot(yi,'.')\n",
    "    plt.plot(y1)\n",
    "    plt.show()\n",
    "        \n",
    "    \n",
    "def desv(M):\n",
    "    desviacion_estandar=0.0\n",
    "    M=media(xi)\n",
    "    print M\n",
    "    n=len(xi)\n",
    "    #print n\n",
    "    for i in range(n):\n",
    "        #print xi[i]-M\n",
    "        #print xi[i]\n",
    "        desviacion_estandar+=(xi[i]-M)**2\n",
    "    resultado=desviacion_estandar/(n-1)\n",
    "    return resultado\n",
    "#media(xi)\n",
    "#desv(media)\n",
    "#funcion(xi,yi)\n",
    "print hallara1(xi,yi)\n",
    "print\"\\n\"\n",
    "hallara0(xi,yi)\n",
    "y(xi,yi)"
   ]
  },
  {
   "cell_type": "code",
   "execution_count": null,
   "metadata": {
    "collapsed": true
   },
   "outputs": [],
   "source": []
  },
  {
   "cell_type": "code",
   "execution_count": null,
   "metadata": {
    "collapsed": true
   },
   "outputs": [],
   "source": []
  }
 ],
 "metadata": {
  "kernelspec": {
   "display_name": "Python 2",
   "language": "python",
   "name": "python2"
  },
  "language_info": {
   "codemirror_mode": {
    "name": "ipython",
    "version": 2
   },
   "file_extension": ".py",
   "mimetype": "text/x-python",
   "name": "python",
   "nbconvert_exporter": "python",
   "pygments_lexer": "ipython2",
   "version": "2.7.10"
  }
 },
 "nbformat": 4,
 "nbformat_minor": 0
}
